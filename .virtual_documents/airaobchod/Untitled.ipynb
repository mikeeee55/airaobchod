# Nejprve zobrazte cestu
pwd  # aktuální složka
# nebo
ls ~/Dropbox  # zobrazí obsah Dropbox složky



jupyter lab --notebook-dir=/home/miras/Dropbox




ls ~/Dropbox


jupyter lab --notebook-dir=C:\Users\miros\Dropbox



jupyter lab --notebook-dir=C:/Users/miros/Dropbox



jupyter lab --notebook-dir="C:\Users\miros\Dropbox"




