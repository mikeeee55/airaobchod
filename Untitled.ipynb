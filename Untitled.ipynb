{
 "cells": [
  {
   "cell_type": "code",
   "execution_count": 1,
   "id": "7210a251-69f0-4717-9386-d054635a4595",
   "metadata": {},
   "outputs": [
    {
     "ename": "SyntaxError",
     "evalue": "invalid syntax (2177492808.py, line 4)",
     "output_type": "error",
     "traceback": [
      "\u001b[1;36m  Cell \u001b[1;32mIn[1], line 4\u001b[1;36m\u001b[0m\n\u001b[1;33m    ls ~/Dropbox  # zobrazí obsah Dropbox složky\u001b[0m\n\u001b[1;37m       ^\u001b[0m\n\u001b[1;31mSyntaxError\u001b[0m\u001b[1;31m:\u001b[0m invalid syntax\n"
     ]
    }
   ],
   "source": [
    "# Nejprve zobrazte cestu\n",
    "pwd  # aktuální složka\n",
    "# nebo\n",
    "ls ~/Dropbox  # zobrazí obsah Dropbox složky\n"
   ]
  },
  {
   "cell_type": "code",
   "execution_count": 5,
   "id": "e0741ed3-2ebe-45fa-823b-eb68d812e6b2",
   "metadata": {},
   "outputs": [
    {
     "ename": "SyntaxError",
     "evalue": "invalid syntax (1107928547.py, line 1)",
     "output_type": "error",
     "traceback": [
      "\u001b[1;36m  Cell \u001b[1;32mIn[5], line 1\u001b[1;36m\u001b[0m\n\u001b[1;33m    jupyter lab --notebook-dir=/home/miras/Dropbox\u001b[0m\n\u001b[1;37m            ^\u001b[0m\n\u001b[1;31mSyntaxError\u001b[0m\u001b[1;31m:\u001b[0m invalid syntax\n"
     ]
    }
   ],
   "source": [
    "jupyter lab --notebook-dir=/home/miras/Dropbox\n",
    "\n"
   ]
  },
  {
   "cell_type": "code",
   "execution_count": 7,
   "id": "db0c365d-b89b-49bc-9196-a66ee0066c25",
   "metadata": {},
   "outputs": [
    {
     "name": "stderr",
     "output_type": "stream",
     "text": [
      "Parameter format not correct - \"Dropbox\".\n"
     ]
    }
   ],
   "source": [
    "ls ~/Dropbox"
   ]
  },
  {
   "cell_type": "code",
   "execution_count": 9,
   "id": "d16fe6d9-a90f-4fc9-bb20-4b2aa8c8daf6",
   "metadata": {},
   "outputs": [
    {
     "ename": "SyntaxError",
     "evalue": "invalid syntax (1515031308.py, line 1)",
     "output_type": "error",
     "traceback": [
      "\u001b[1;36m  Cell \u001b[1;32mIn[9], line 1\u001b[1;36m\u001b[0m\n\u001b[1;33m    jupyter lab --notebook-dir=C:\\Users\\miros\\Dropbox\u001b[0m\n\u001b[1;37m            ^\u001b[0m\n\u001b[1;31mSyntaxError\u001b[0m\u001b[1;31m:\u001b[0m invalid syntax\n"
     ]
    }
   ],
   "source": [
    "jupyter lab --notebook-dir=C:\\Users\\miros\\Dropbox\n"
   ]
  },
  {
   "cell_type": "code",
   "execution_count": 11,
   "id": "48b71082-15a5-47f6-aad8-7e8f646741f2",
   "metadata": {},
   "outputs": [
    {
     "ename": "SyntaxError",
     "evalue": "invalid syntax (3411109324.py, line 1)",
     "output_type": "error",
     "traceback": [
      "\u001b[1;36m  Cell \u001b[1;32mIn[11], line 1\u001b[1;36m\u001b[0m\n\u001b[1;33m    jupyter lab --notebook-dir=C:/Users/miros/Dropbox\u001b[0m\n\u001b[1;37m            ^\u001b[0m\n\u001b[1;31mSyntaxError\u001b[0m\u001b[1;31m:\u001b[0m invalid syntax\n"
     ]
    }
   ],
   "source": [
    "jupyter lab --notebook-dir=C:/Users/miros/Dropbox\n"
   ]
  },
  {
   "cell_type": "code",
   "execution_count": 13,
   "id": "ee977780-706b-403c-863c-5a10ff8e8933",
   "metadata": {},
   "outputs": [
    {
     "ename": "SyntaxError",
     "evalue": "invalid syntax (449935295.py, line 1)",
     "output_type": "error",
     "traceback": [
      "\u001b[1;36m  Cell \u001b[1;32mIn[13], line 1\u001b[1;36m\u001b[0m\n\u001b[1;33m    jupyter lab --notebook-dir=\"C:\\Users\\miros\\Dropbox\"\u001b[0m\n\u001b[1;37m            ^\u001b[0m\n\u001b[1;31mSyntaxError\u001b[0m\u001b[1;31m:\u001b[0m invalid syntax\n"
     ]
    }
   ],
   "source": [
    "jupyter lab --notebook-dir=\"C:\\Users\\miros\\Dropbox\"\n"
   ]
  },
  {
   "cell_type": "code",
   "execution_count": null,
   "id": "ed0480eb-d8a3-4f55-b9f3-c21128a2e4dd",
   "metadata": {},
   "outputs": [],
   "source": []
  }
 ],
 "metadata": {
  "kernelspec": {
   "display_name": "Python [conda env:base] *",
   "language": "python",
   "name": "conda-base-py"
  },
  "language_info": {
   "codemirror_mode": {
    "name": "ipython",
    "version": 3
   },
   "file_extension": ".py",
   "mimetype": "text/x-python",
   "name": "python",
   "nbconvert_exporter": "python",
   "pygments_lexer": "ipython3",
   "version": "3.12.7"
  }
 },
 "nbformat": 4,
 "nbformat_minor": 5
}
